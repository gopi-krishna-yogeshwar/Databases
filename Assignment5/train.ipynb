{
  "nbformat": 4,
  "nbformat_minor": 0,
  "metadata": {
    "colab": {
      "provenance": []
    },
    "kernelspec": {
      "name": "python3",
      "display_name": "Python 3"
    },
    "accelerator": "GPU",
    "gpuClass": "standard"
  },
  "cells": [
    {
      "metadata": {
        "id": "gbwF0CWA1hVA"
      },
      "cell_type": "markdown",
      "source": [
        "Below we're using Keras, to train an NN with images of cats and dogs."
      ]
    },
    {
      "cell_type": "code",
      "source": [
        "from keras.preprocessing.image import ImageDataGenerator\n",
        "from keras.models import Sequential\n",
        "from keras.layers import Conv2D, MaxPooling2D\n",
        "from keras.layers import Activation, Dropout, Flatten, Dense\n",
        "from keras import backend as K\n",
        "\n",
        "from google.colab import drive\n",
        "drive.mount(\"/content/gdrive\")\n",
        "\n",
        "# dimensions of our images.\n",
        "img_width, img_height = 150, 150\n",
        "\n",
        "train_data_dir = '/content/gdrive/My Drive/Colab Notebooks/cats-vs-dogs/data/train'\n",
        "validation_data_dir = '/content/gdrive/My Drive/Colab Notebooks/cats-vs-dogs/data/validation'\n",
        "nb_train_samples = 2000\n",
        "nb_validation_samples = 800\n",
        "epochs = 50\n",
        "batch_size = 16\n",
        "\n",
        "if K.image_data_format() == 'channels_first':\n",
        "    input_shape = (3, img_width, img_height)\n",
        "else:\n",
        "    input_shape = (img_width, img_height, 3)\n",
        "\n",
        "model = Sequential()\n",
        "model.add(Conv2D(32, (3, 3), input_shape=input_shape))\n",
        "model.add(Activation('relu'))\n",
        "model.add(MaxPooling2D(pool_size=(2, 2)))\n",
        "\n",
        "model.add(Conv2D(32, (3, 3)))\n",
        "model.add(Activation('relu'))\n",
        "model.add(MaxPooling2D(pool_size=(2, 2)))\n",
        "\n",
        "model.add(Conv2D(64, (3, 3)))\n",
        "model.add(Activation('relu'))\n",
        "model.add(MaxPooling2D(pool_size=(2, 2)))\n",
        "\n",
        "model.add(Flatten())\n",
        "model.add(Dense(64))\n",
        "model.add(Activation('relu'))\n",
        "model.add(Dropout(0.5))\n",
        "model.add(Dense(1))\n",
        "model.add(Activation('sigmoid'))\n",
        "\n",
        "model.compile(loss='binary_crossentropy',\n",
        "              optimizer='rmsprop',\n",
        "              metrics=['accuracy'])"
      ],
      "metadata": {
        "colab": {
          "base_uri": "https://localhost:8080/"
        },
        "id": "L3pkbxbWAvcs",
        "outputId": "891cfd8a-2477-411f-d882-6cc853e3f5c1"
      },
      "execution_count": null,
      "outputs": [
        {
          "output_type": "stream",
          "name": "stdout",
          "text": [
            "Drive already mounted at /content/gdrive; to attempt to forcibly remount, call drive.mount(\"/content/gdrive\", force_remount=True).\n"
          ]
        }
      ]
    },
    {
      "metadata": {
        "id": "vZ6mlChb1fsI",
        "colab": {
          "base_uri": "https://localhost:8080/"
        },
        "outputId": "a78559a6-64a5-47d1-f46c-6811b642cc60"
      },
      "cell_type": "code",
      "source": [
        "\n",
        "\n",
        "# this is the augmentation configuration we will use for training\n",
        "train_datagen = ImageDataGenerator(\n",
        "    rescale=1. / 255,\n",
        "    shear_range=0.2,\n",
        "    zoom_range=0.2,\n",
        "    horizontal_flip=True)\n",
        "\n",
        "# this is the augmentation configuration we will use for testing:\n",
        "# only rescaling\n",
        "test_datagen = ImageDataGenerator(rescale=1. / 255)\n",
        "\n",
        "train_generator = train_datagen.flow_from_directory(\n",
        "    train_data_dir,\n",
        "    target_size=(img_width, img_height),\n",
        "    batch_size=batch_size,\n",
        "    class_mode='binary')\n",
        "\n",
        "validation_generator = test_datagen.flow_from_directory(\n",
        "    validation_data_dir,\n",
        "    target_size=(img_width, img_height),\n",
        "    batch_size=batch_size,\n",
        "    class_mode='binary')\n",
        "\n",
        "model.fit_generator(\n",
        "    train_generator,\n",
        "    steps_per_epoch=nb_train_samples // batch_size,\n",
        "    epochs=epochs,\n",
        "    validation_data=validation_generator,\n",
        "    validation_steps=nb_validation_samples // batch_size)\n",
        "\n",
        "model.save_weights('/content/gdrive/My Drive/Colab Notebooks/cats-vs-dogs/weights.h5')\n",
        "\n"
      ],
      "execution_count": null,
      "outputs": [
        {
          "output_type": "stream",
          "name": "stdout",
          "text": [
            "Found 2000 images belonging to 2 classes.\n",
            "Found 804 images belonging to 2 classes.\n"
          ]
        },
        {
          "output_type": "stream",
          "name": "stderr",
          "text": [
            "<ipython-input-19-b63cce86f26e>:24: UserWarning: `Model.fit_generator` is deprecated and will be removed in a future version. Please use `Model.fit`, which supports generators.\n",
            "  model.fit_generator(\n"
          ]
        },
        {
          "output_type": "stream",
          "name": "stdout",
          "text": [
            "Epoch 1/50\n",
            "125/125 [==============================] - 1240s 10s/step - loss: 0.7028 - accuracy: 0.5400 - val_loss: 0.6821 - val_accuracy: 0.5100\n",
            "Epoch 2/50\n",
            "125/125 [==============================] - 21s 165ms/step - loss: 0.6880 - accuracy: 0.5900 - val_loss: 0.6330 - val_accuracy: 0.6625\n",
            "Epoch 3/50\n",
            "125/125 [==============================] - 21s 166ms/step - loss: 0.6338 - accuracy: 0.6520 - val_loss: 0.6088 - val_accuracy: 0.6463\n",
            "Epoch 4/50\n",
            "125/125 [==============================] - 21s 165ms/step - loss: 0.6059 - accuracy: 0.6865 - val_loss: 0.5627 - val_accuracy: 0.7088\n",
            "Epoch 5/50\n",
            "125/125 [==============================] - 21s 165ms/step - loss: 0.5811 - accuracy: 0.7040 - val_loss: 0.5892 - val_accuracy: 0.7138\n",
            "Epoch 6/50\n",
            "125/125 [==============================] - 21s 165ms/step - loss: 0.5719 - accuracy: 0.7035 - val_loss: 0.5458 - val_accuracy: 0.7387\n",
            "Epoch 7/50\n",
            "125/125 [==============================] - 21s 165ms/step - loss: 0.5543 - accuracy: 0.7325 - val_loss: 0.5861 - val_accuracy: 0.7237\n",
            "Epoch 8/50\n",
            "125/125 [==============================] - 21s 167ms/step - loss: 0.5310 - accuracy: 0.7480 - val_loss: 0.6066 - val_accuracy: 0.7138\n",
            "Epoch 9/50\n",
            "125/125 [==============================] - 23s 188ms/step - loss: 0.5035 - accuracy: 0.7525 - val_loss: 0.5791 - val_accuracy: 0.7487\n",
            "Epoch 10/50\n",
            "125/125 [==============================] - 21s 165ms/step - loss: 0.5190 - accuracy: 0.7560 - val_loss: 0.6034 - val_accuracy: 0.6925\n",
            "Epoch 11/50\n",
            "125/125 [==============================] - 21s 167ms/step - loss: 0.4906 - accuracy: 0.7720 - val_loss: 0.5277 - val_accuracy: 0.7550\n",
            "Epoch 12/50\n",
            "125/125 [==============================] - 21s 166ms/step - loss: 0.4898 - accuracy: 0.7835 - val_loss: 0.5009 - val_accuracy: 0.7763\n",
            "Epoch 13/50\n",
            "125/125 [==============================] - 21s 165ms/step - loss: 0.4746 - accuracy: 0.7810 - val_loss: 0.5405 - val_accuracy: 0.7575\n",
            "Epoch 14/50\n",
            "125/125 [==============================] - 21s 164ms/step - loss: 0.5008 - accuracy: 0.7715 - val_loss: 0.5252 - val_accuracy: 0.7550\n",
            "Epoch 15/50\n",
            "125/125 [==============================] - 21s 164ms/step - loss: 0.4735 - accuracy: 0.7845 - val_loss: 0.5289 - val_accuracy: 0.7638\n",
            "Epoch 16/50\n",
            "125/125 [==============================] - 21s 165ms/step - loss: 0.4597 - accuracy: 0.7910 - val_loss: 0.5015 - val_accuracy: 0.7538\n",
            "Epoch 17/50\n",
            "125/125 [==============================] - 20s 164ms/step - loss: 0.4559 - accuracy: 0.8015 - val_loss: 0.6182 - val_accuracy: 0.7250\n",
            "Epoch 18/50\n",
            "125/125 [==============================] - 21s 167ms/step - loss: 0.4494 - accuracy: 0.7945 - val_loss: 0.5343 - val_accuracy: 0.7812\n",
            "Epoch 19/50\n",
            "125/125 [==============================] - 21s 168ms/step - loss: 0.4312 - accuracy: 0.7985 - val_loss: 0.5495 - val_accuracy: 0.7837\n",
            "Epoch 20/50\n",
            "125/125 [==============================] - 21s 169ms/step - loss: 0.4577 - accuracy: 0.8090 - val_loss: 0.6103 - val_accuracy: 0.7487\n",
            "Epoch 21/50\n",
            "125/125 [==============================] - 20s 162ms/step - loss: 0.4171 - accuracy: 0.8250 - val_loss: 0.5145 - val_accuracy: 0.7650\n",
            "Epoch 22/50\n",
            "125/125 [==============================] - 20s 163ms/step - loss: 0.4322 - accuracy: 0.8200 - val_loss: 0.5502 - val_accuracy: 0.7713\n",
            "Epoch 23/50\n",
            "125/125 [==============================] - 23s 185ms/step - loss: 0.4151 - accuracy: 0.8155 - val_loss: 0.5442 - val_accuracy: 0.7550\n",
            "Epoch 24/50\n",
            "125/125 [==============================] - 21s 165ms/step - loss: 0.4171 - accuracy: 0.8260 - val_loss: 0.5180 - val_accuracy: 0.7588\n",
            "Epoch 25/50\n",
            "125/125 [==============================] - 21s 166ms/step - loss: 0.4583 - accuracy: 0.8150 - val_loss: 0.5922 - val_accuracy: 0.7437\n",
            "Epoch 26/50\n",
            "125/125 [==============================] - 21s 167ms/step - loss: 0.4413 - accuracy: 0.8195 - val_loss: 0.5457 - val_accuracy: 0.7750\n",
            "Epoch 27/50\n",
            "125/125 [==============================] - 21s 166ms/step - loss: 0.3945 - accuracy: 0.8240 - val_loss: 0.5320 - val_accuracy: 0.7538\n",
            "Epoch 28/50\n",
            "125/125 [==============================] - 21s 166ms/step - loss: 0.4128 - accuracy: 0.8270 - val_loss: 0.7328 - val_accuracy: 0.7425\n",
            "Epoch 29/50\n",
            "125/125 [==============================] - 21s 166ms/step - loss: 0.4083 - accuracy: 0.8310 - val_loss: 0.5208 - val_accuracy: 0.7900\n",
            "Epoch 30/50\n",
            "125/125 [==============================] - 21s 165ms/step - loss: 0.3925 - accuracy: 0.8265 - val_loss: 0.5514 - val_accuracy: 0.7412\n",
            "Epoch 31/50\n",
            "125/125 [==============================] - 21s 166ms/step - loss: 0.4107 - accuracy: 0.8245 - val_loss: 0.5386 - val_accuracy: 0.7925\n",
            "Epoch 32/50\n",
            "125/125 [==============================] - 21s 166ms/step - loss: 0.3901 - accuracy: 0.8360 - val_loss: 0.6598 - val_accuracy: 0.7725\n",
            "Epoch 33/50\n",
            "125/125 [==============================] - 21s 166ms/step - loss: 0.4115 - accuracy: 0.8185 - val_loss: 0.5429 - val_accuracy: 0.7613\n",
            "Epoch 34/50\n",
            "125/125 [==============================] - 21s 166ms/step - loss: 0.3830 - accuracy: 0.8310 - val_loss: 0.5574 - val_accuracy: 0.7713\n",
            "Epoch 35/50\n",
            "125/125 [==============================] - 21s 167ms/step - loss: 0.3832 - accuracy: 0.8430 - val_loss: 0.5534 - val_accuracy: 0.7738\n",
            "Epoch 36/50\n",
            "125/125 [==============================] - 21s 166ms/step - loss: 0.3773 - accuracy: 0.8600 - val_loss: 0.5331 - val_accuracy: 0.7750\n",
            "Epoch 37/50\n",
            "125/125 [==============================] - 24s 189ms/step - loss: 0.3884 - accuracy: 0.8345 - val_loss: 0.6290 - val_accuracy: 0.7875\n",
            "Epoch 38/50\n",
            "125/125 [==============================] - 21s 169ms/step - loss: 0.4069 - accuracy: 0.8350 - val_loss: 0.4834 - val_accuracy: 0.7887\n",
            "Epoch 39/50\n",
            "125/125 [==============================] - 21s 168ms/step - loss: 0.3959 - accuracy: 0.8315 - val_loss: 0.5068 - val_accuracy: 0.7825\n",
            "Epoch 40/50\n",
            "125/125 [==============================] - 21s 171ms/step - loss: 0.3608 - accuracy: 0.8515 - val_loss: 0.5983 - val_accuracy: 0.7688\n",
            "Epoch 41/50\n",
            "125/125 [==============================] - 21s 170ms/step - loss: 0.3738 - accuracy: 0.8465 - val_loss: 0.5280 - val_accuracy: 0.7950\n",
            "Epoch 42/50\n",
            "125/125 [==============================] - 21s 170ms/step - loss: 0.3774 - accuracy: 0.8390 - val_loss: 0.6293 - val_accuracy: 0.7738\n",
            "Epoch 43/50\n",
            "125/125 [==============================] - 21s 168ms/step - loss: 0.3778 - accuracy: 0.8525 - val_loss: 0.6029 - val_accuracy: 0.7887\n",
            "Epoch 44/50\n",
            "125/125 [==============================] - 21s 170ms/step - loss: 0.3812 - accuracy: 0.8540 - val_loss: 0.5462 - val_accuracy: 0.7875\n",
            "Epoch 45/50\n",
            "125/125 [==============================] - 21s 171ms/step - loss: 0.3555 - accuracy: 0.8500 - val_loss: 0.6693 - val_accuracy: 0.7750\n",
            "Epoch 46/50\n",
            "125/125 [==============================] - 21s 167ms/step - loss: 0.3613 - accuracy: 0.8530 - val_loss: 0.5599 - val_accuracy: 0.7513\n",
            "Epoch 47/50\n",
            "125/125 [==============================] - 21s 166ms/step - loss: 0.3556 - accuracy: 0.8530 - val_loss: 0.6185 - val_accuracy: 0.7538\n",
            "Epoch 48/50\n",
            "125/125 [==============================] - 21s 166ms/step - loss: 0.3856 - accuracy: 0.8415 - val_loss: 0.6452 - val_accuracy: 0.7763\n",
            "Epoch 49/50\n",
            "125/125 [==============================] - 21s 167ms/step - loss: 0.3635 - accuracy: 0.8380 - val_loss: 0.7166 - val_accuracy: 0.7788\n",
            "Epoch 50/50\n",
            "125/125 [==============================] - 21s 168ms/step - loss: 0.3719 - accuracy: 0.8470 - val_loss: 0.6180 - val_accuracy: 0.7825\n"
          ]
        }
      ]
    },
    {
      "metadata": {
        "id": "VBfCNs9q4I48"
      },
      "cell_type": "code",
      "source": [],
      "execution_count": null,
      "outputs": []
    }
  ]
}