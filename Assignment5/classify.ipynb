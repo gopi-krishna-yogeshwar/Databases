{
  "nbformat": 4,
  "nbformat_minor": 0,
  "metadata": {
    "colab": {
      "provenance": []
    },
    "kernelspec": {
      "name": "python3",
      "display_name": "Python 3"
    },
    "accelerator": "GPU"
  },
  "cells": [
    {
      "cell_type": "markdown",
      "metadata": {
        "id": "gbwF0CWA1hVA"
      },
      "source": [
        "Classification!\n"
      ]
    },
    {
      "cell_type": "code",
      "metadata": {
        "id": "X3poIdKr0IPJ",
        "outputId": "fc557637-b9a0-497b-f96a-93db747fae78",
        "colab": {
          "base_uri": "https://localhost:8080/"
        }
      },
      "source": [
        "\n",
        "from google.colab import drive\n",
        "drive.mount(\"/content/gdrive\")\n"
      ],
      "execution_count": 1,
      "outputs": [
        {
          "output_type": "stream",
          "name": "stdout",
          "text": [
            "Mounted at /content/gdrive\n"
          ]
        }
      ]
    },
    {
      "cell_type": "code",
      "metadata": {
        "id": "vZ6mlChb1fsI",
        "outputId": "ac84f175-9aa4-40ad-954a-d4a0aca3a112",
        "colab": {
          "base_uri": "https://localhost:8080/"
        }
      },
      "source": [
        "from keras.preprocessing.image import ImageDataGenerator\n",
        "from keras.models import Sequential\n",
        "from keras.layers import Conv2D, MaxPooling2D\n",
        "from keras.layers import Activation, Dropout, Flatten, Dense\n",
        "from keras import backend as K\n",
        "\n",
        "import numpy\n",
        "\n",
        "# dimensions of our images.\n",
        "img_width, img_height = 150, 150\n",
        "\n",
        "\n",
        "if K.image_data_format() == 'channels_first':\n",
        "    input_shape = (3, img_width, img_height)\n",
        "else:\n",
        "    input_shape = (img_width, img_height, 3)\n",
        "    \n",
        "    \n",
        "\n",
        "\n",
        "model = Sequential()\n",
        "model.add(Conv2D(32, (3, 3), input_shape=input_shape))\n",
        "model.add(Activation('relu'))\n",
        "model.add(MaxPooling2D(pool_size=(2, 2)))\n",
        "\n",
        "model.add(Conv2D(32, (3, 3)))\n",
        "model.add(Activation('relu'))\n",
        "model.add(MaxPooling2D(pool_size=(2, 2)))\n",
        "\n",
        "model.add(Conv2D(64, (3, 3)))\n",
        "model.add(Activation('relu'))\n",
        "model.add(MaxPooling2D(pool_size=(2, 2)))\n",
        "\n",
        "model.add(Flatten())\n",
        "model.add(Dense(64))\n",
        "model.add(Activation('relu'))\n",
        "model.add(Dropout(0.5))\n",
        "model.add(Dense(1))\n",
        "model.add(Activation('sigmoid'))\n",
        "model.compile(loss='binary_crossentropy',\n",
        "              optimizer='rmsprop',\n",
        "              metrics=['accuracy'])\n",
        "\n",
        "#from keras.models import load_model\n",
        "model.load_weights('/content/gdrive/My Drive/Colab Notebooks/cats-vs-dogs/weights.h5')\n",
        "\n",
        "\n",
        "\n",
        "from tensorflow.keras.preprocessing import image\n",
        "\n",
        "\n",
        "\n",
        "myPic = '/content/gdrive/My Drive/Colab Notebooks/cats-vs-dogs/data/live/myPic1.jpeg'\n",
        "test_image= image.load_img(myPic, target_size = (img_width, img_height)) \n",
        "test_image = image.img_to_array(test_image)\n",
        "test_image = test_image.reshape(input_shape)\n",
        "test_image = numpy.expand_dims(test_image, axis = 0)\n",
        "result = model.predict(test_image,verbose=0)  \n",
        "print(result[0][0])\n",
        "\n",
        "myPic2 = '/content/gdrive/My Drive/Colab Notebooks/cats-vs-dogs/data/live/myPic2.jpeg'\n",
        "#myPic2 = '/content/drive/My Drive/Colab Notebooks/cats-vs-dogs/data/live/corgi.jpg'\n",
        "test_image2= image.load_img(myPic2, target_size = (img_width, img_height)) \n",
        "test_image2 = image.img_to_array(test_image2)\n",
        "test_image2 = test_image2.reshape(input_shape)\n",
        "test_image2 = numpy.expand_dims(test_image2, axis = 0)\n",
        "result = model.predict(test_image2,verbose=0)  \n",
        "print(result[0][0])\n",
        "\n"
      ],
      "execution_count": 2,
      "outputs": [
        {
          "output_type": "stream",
          "name": "stdout",
          "text": [
            "0.0\n",
            "1.0\n"
          ]
        }
      ]
    },
    {
      "cell_type": "code",
      "metadata": {
        "id": "VBfCNs9q4I48"
      },
      "source": [],
      "execution_count": null,
      "outputs": []
    }
  ]
}